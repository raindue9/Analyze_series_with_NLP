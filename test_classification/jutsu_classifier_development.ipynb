{
 "cells": [
  {
   "cell_type": "code",
   "id": "initial_id",
   "metadata": {
    "collapsed": true,
    "ExecuteTime": {
     "end_time": "2025-06-11T13:19:19.814360Z",
     "start_time": "2025-06-11T13:19:18.762061Z"
    }
   },
   "source": [
    "import numpy as np\n",
    "import pandas as pd\n",
    "from bs4 import BeautifulSoup\n",
    "from sklearn import preprocessing\n",
    "from sklearn.model_selection import train_test_split\n",
    "from transformers import AutoTokenizer\n",
    "from datasets import Dataset"
   ],
   "execution_count": 48,
   "outputs": []
  },
  {
   "metadata": {
    "ExecuteTime": {
     "end_time": "2025-06-11T12:22:29.381046Z",
     "start_time": "2025-06-11T12:22:29.378787Z"
    }
   },
   "cell_type": "code",
   "source": "",
   "id": "3e5f98ce9f8a7055",
   "execution_count": 19,
   "outputs": []
  },
  {
   "metadata": {},
   "cell_type": "markdown",
   "source": "# Load Dataset",
   "id": "a8d61306a32f334"
  },
  {
   "metadata": {
    "ExecuteTime": {
     "end_time": "2025-06-11T12:22:29.401971Z",
     "start_time": "2025-06-11T12:22:29.382066Z"
    }
   },
   "cell_type": "code",
   "source": [
    "data_path = \"../data/jutsus.jsonl\"\n",
    "df = pd.read_json(data_path, lines=True)\n",
    "df.head()"
   ],
   "id": "ef82e03043175e3e",
   "execution_count": 20,
   "outputs": []
  },
  {
   "metadata": {
    "ExecuteTime": {
     "end_time": "2025-06-11T12:22:29.405601Z",
     "start_time": "2025-06-11T12:22:29.402475Z"
    }
   },
   "cell_type": "code",
   "source": [
    "def simplify_jutsu(jutsu):\n",
    "    if \"Genjutsu\" in jutsu:\n",
    "        return \"Genjutsu\"\n",
    "    if \"Ninjutsu\" in jutsu:\n",
    "        return \"Ninjutsu\"\n",
    "    if \"Taijutsu\" in jutsu:\n",
    "        return \"Taijutsu\""
   ],
   "id": "c952851bd85a4b8c",
   "execution_count": 21,
   "outputs": []
  },
  {
   "metadata": {
    "ExecuteTime": {
     "end_time": "2025-06-11T12:22:29.409720Z",
     "start_time": "2025-06-11T12:22:29.406104Z"
    }
   },
   "cell_type": "code",
   "source": "df['jutsu_type_simplified'] = df['jutsu_type'].apply(simplify_jutsu)",
   "id": "85a613094e286518",
   "execution_count": 22,
   "outputs": []
  },
  {
   "metadata": {
    "ExecuteTime": {
     "end_time": "2025-06-11T12:22:29.422201Z",
     "start_time": "2025-06-11T12:22:29.416793Z"
    }
   },
   "cell_type": "code",
   "source": "df.head()",
   "id": "8c7291eb2bb09a74",
   "execution_count": 23,
   "outputs": []
  },
  {
   "metadata": {
    "ExecuteTime": {
     "end_time": "2025-06-11T12:22:29.427354Z",
     "start_time": "2025-06-11T12:22:29.423209Z"
    }
   },
   "cell_type": "code",
   "source": "df['jutsu_type_simplified'].value_counts()",
   "id": "1d40f121a69ac0fc",
   "execution_count": 24,
   "outputs": []
  },
  {
   "metadata": {
    "ExecuteTime": {
     "end_time": "2025-06-11T12:22:29.434877Z",
     "start_time": "2025-06-11T12:22:29.427354Z"
    }
   },
   "cell_type": "code",
   "source": [
    "df['text'] = df['jutsu_name'] + \" \" + df['jutsu_description']\n",
    "df['jutsu'] = df['jutsu_type_simplified']\n",
    "df = df[['text','jutsu']]\n",
    "df = df.dropna()"
   ],
   "id": "147088dec3c00d4c",
   "execution_count": 25,
   "outputs": []
  },
  {
   "metadata": {
    "ExecuteTime": {
     "end_time": "2025-06-11T12:22:29.444498Z",
     "start_time": "2025-06-11T12:22:29.436880Z"
    }
   },
   "cell_type": "code",
   "source": "df.head()",
   "id": "9c695d38e9c65c05",
   "execution_count": 26,
   "outputs": []
  },
  {
   "metadata": {
    "ExecuteTime": {
     "end_time": "2025-06-11T12:26:26.470944Z",
     "start_time": "2025-06-11T12:26:26.467180Z"
    }
   },
   "cell_type": "code",
   "source": [
    "class Cleaner():\n",
    "    def __init__(self):\n",
    "        pass\n",
    "    \n",
    "    def put_line_breaks(self, text):\n",
    "        return text.replace(\"<\\\\p>\", \"<\\\\p>\\n\")\n",
    "    \n",
    "    def remove_html_tags(self, text):\n",
    "        clean_text = BeautifulSoup(text, \"lxml\").text\n",
    "        return clean_text\n",
    "    \n",
    "    def clean(self, text):\n",
    "        text = self.put_line_breaks(text)\n",
    "        text = self.remove_html_tags(text)\n",
    "        text = text.strip()\n",
    "        return text"
   ],
   "id": "e5eb62e94cd3d04",
   "execution_count": 30,
   "outputs": []
  },
  {
   "metadata": {
    "ExecuteTime": {
     "end_time": "2025-06-11T12:27:16.621338Z",
     "start_time": "2025-06-11T12:27:16.618331Z"
    }
   },
   "cell_type": "code",
   "source": [
    "text_column = 'text'\n",
    "label_column_name = 'jutsu'\n"
   ],
   "id": "b6946e6f2f8de2cc",
   "execution_count": 31,
   "outputs": []
  },
  {
   "metadata": {
    "ExecuteTime": {
     "end_time": "2025-06-11T12:28:34.713816Z",
     "start_time": "2025-06-11T12:28:34.451078Z"
    }
   },
   "cell_type": "code",
   "source": [
    "# Clean Text\n",
    "cleaner = Cleaner()\n",
    "df['text_cleaned'] = df[text_column].apply(cleaner.clean)\n",
    "df.head()"
   ],
   "id": "7206439195428b1b",
   "execution_count": 33,
   "outputs": []
  },
  {
   "metadata": {
    "ExecuteTime": {
     "end_time": "2025-06-11T12:34:20.026874Z",
     "start_time": "2025-06-11T12:34:20.016246Z"
    }
   },
   "cell_type": "code",
   "source": [
    "# Encode Labels\n",
    "le = preprocessing.LabelEncoder()\n",
    "le.fit((df[label_column_name]).tolist())\n"
   ],
   "id": "a468f71913d29a52",
   "execution_count": 35,
   "outputs": []
  },
  {
   "metadata": {
    "ExecuteTime": {
     "end_time": "2025-06-11T12:37:56.873759Z",
     "start_time": "2025-06-11T12:37:56.869453Z"
    }
   },
   "cell_type": "code",
   "source": [
    "label_dict = {index:label_name for index, label_name in enumerate(le.__dict__['classes_'].tolist())}\n",
    "label_dict"
   ],
   "id": "177e4d78835e7f55",
   "execution_count": 36,
   "outputs": []
  },
  {
   "metadata": {
    "ExecuteTime": {
     "end_time": "2025-06-11T12:41:07.553303Z",
     "start_time": "2025-06-11T12:41:07.543992Z"
    }
   },
   "cell_type": "code",
   "source": [
    "df['label'] = le.transform(df[label_column_name].tolist())\n",
    "df.head()"
   ],
   "id": "2f6a74ad9f2ba229",
   "execution_count": 37,
   "outputs": []
  },
  {
   "metadata": {
    "ExecuteTime": {
     "end_time": "2025-06-11T12:46:02.079729Z",
     "start_time": "2025-06-11T12:46:02.070702Z"
    }
   },
   "cell_type": "code",
   "source": [
    "test_size = 0.2\n",
    "df_train, df_test = train_test_split(df,\n",
    "                                     test_size=test_size,\n",
    "                                     stratify=df['label']\n",
    ")"
   ],
   "id": "5813417fc9899e3a",
   "execution_count": 39,
   "outputs": []
  },
  {
   "metadata": {
    "ExecuteTime": {
     "end_time": "2025-06-11T12:46:31.749164Z",
     "start_time": "2025-06-11T12:46:31.743092Z"
    }
   },
   "cell_type": "code",
   "source": "df_train['jutsu'].value_counts()",
   "id": "41b0590287c3d772",
   "execution_count": 40,
   "outputs": []
  },
  {
   "metadata": {
    "ExecuteTime": {
     "end_time": "2025-06-11T13:14:25.400236Z",
     "start_time": "2025-06-11T13:14:25.396849Z"
    }
   },
   "cell_type": "code",
   "source": "model_name = \"distilbert/distilbert-base-uncased\"",
   "id": "b8d17b047f20731d",
   "execution_count": 44,
   "outputs": []
  },
  {
   "metadata": {
    "ExecuteTime": {
     "end_time": "2025-06-11T13:14:26.602579Z",
     "start_time": "2025-06-11T13:14:26.338199Z"
    }
   },
   "cell_type": "code",
   "source": "tokenizer = AutoTokenizer.from_pretrained(model_name)",
   "id": "de3685e0e76faa2c",
   "execution_count": 45,
   "outputs": []
  },
  {
   "metadata": {
    "ExecuteTime": {
     "end_time": "2025-06-11T13:24:13.909526Z",
     "start_time": "2025-06-11T13:24:13.906013Z"
    }
   },
   "cell_type": "code",
   "source": [
    "def preprocess_function(tokenizer, examples):\n",
    "    return tokenizer(examples['text_cleaned'], padding=\"max_length\", truncation=True)"
   ],
   "id": "3e851824ac402c4f",
   "execution_count": 50,
   "outputs": []
  },
  {
   "metadata": {
    "ExecuteTime": {
     "end_time": "2025-06-11T13:24:15.779255Z",
     "start_time": "2025-06-11T13:24:15.105141Z"
    }
   },
   "cell_type": "code",
   "source": [
    "# Conver Pandas to a huggingface dataset\n",
    "train_dataset = Dataset.from_pandas(df_train)\n",
    "test_dataset = Dataset.from_pandas(df_test)\n",
    "\n",
    "# tokenize the dataset\n",
    "tokenized_train = train_dataset.map(lambda examples: preprocess_function(tokenizer, examples),\n",
    "                                    batched=True)\n",
    "tokenized_test = test_dataset.map(lambda examples: preprocess_function(tokenizer, examples),\n",
    "                                  batched=True)\n"
   ],
   "id": "6fa4da2f53614564",
   "execution_count": 51,
   "outputs": []
  }
 ],
 "metadata": {
  "kernelspec": {
   "display_name": "Python 3",
   "language": "python",
   "name": "python3"
  },
  "language_info": {
   "codemirror_mode": {
    "name": "ipython",
    "version": 2
   },
   "file_extension": ".py",
   "mimetype": "text/x-python",
   "name": "python",
   "nbconvert_exporter": "python",
   "pygments_lexer": "ipython2",
   "version": "2.7.6"
  }
 },
 "nbformat": 4,
 "nbformat_minor": 5
}
