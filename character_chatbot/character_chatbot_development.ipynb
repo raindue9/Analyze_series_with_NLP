{
 "cells": [
  {
   "cell_type": "code",
   "id": "initial_id",
   "metadata": {
    "collapsed": true,
    "ExecuteTime": {
     "end_time": "2025-06-13T07:17:25.132093Z",
     "start_time": "2025-06-13T07:17:23.322152Z"
    }
   },
   "source": [
    "import pandas as pd\n",
    "import re \n",
    "from datasets import Dataset"
   ],
   "execution_count": 24,
   "outputs": []
  },
  {
   "metadata": {},
   "cell_type": "code",
   "execution_count": null,
   "source": "",
   "id": "76bdf591264ccb0f",
   "outputs": []
  },
  {
   "metadata": {},
   "cell_type": "markdown",
   "source": "# Load Dataset",
   "id": "90ddd8112394bfa"
  },
  {
   "metadata": {
    "ExecuteTime": {
     "end_time": "2025-06-13T06:35:28.554442Z",
     "start_time": "2025-06-13T06:35:28.540311Z"
    }
   },
   "cell_type": "code",
   "source": [
    "data_path = \"../data/naruto.csv\"\n",
    "naruto_transcript_df = pd.read_csv(data_path)\n",
    "naruto_transcript_df.head()"
   ],
   "id": "22c73323ccd8035f",
   "execution_count": 4,
   "outputs": []
  },
  {
   "metadata": {
    "ExecuteTime": {
     "end_time": "2025-06-13T06:39:10.524752Z",
     "start_time": "2025-06-13T06:39:10.522144Z"
    }
   },
   "cell_type": "code",
   "source": [
    "# Remove actions from transcript\n",
    "def remove_paranthesis(text):\n",
    "    result = re.sub(r'\\(.*?\\)', '', text)\n",
    "    return result\n"
   ],
   "id": "f61b9eec4cc96b50",
   "execution_count": 5,
   "outputs": []
  },
  {
   "metadata": {
    "ExecuteTime": {
     "end_time": "2025-06-13T06:44:14.044483Z",
     "start_time": "2025-06-13T06:44:14.039527Z"
    }
   },
   "cell_type": "code",
   "source": "naruto_transcript_df['line'] = naruto_transcript_df['line'].apply(remove_paranthesis)",
   "id": "86f298c13d29388",
   "execution_count": 8,
   "outputs": []
  },
  {
   "metadata": {
    "ExecuteTime": {
     "end_time": "2025-06-13T06:44:47.287983Z",
     "start_time": "2025-06-13T06:44:47.281962Z"
    }
   },
   "cell_type": "code",
   "source": "naruto_transcript_df.head(2)",
   "id": "4d2c4e492cd615de",
   "execution_count": 9,
   "outputs": []
  },
  {
   "metadata": {
    "ExecuteTime": {
     "end_time": "2025-06-13T06:48:51.011326Z",
     "start_time": "2025-06-13T06:48:51.006268Z"
    }
   },
   "cell_type": "code",
   "source": [
    "naruto_transcript_df['number_of_words'] = naruto_transcript_df['line'].str.strip().str.split(\" \")\n",
    "naruto_transcript_df['number_of_words'] = naruto_transcript_df['number_of_words'].apply(lambda x: len(x))"
   ],
   "id": "dd7b4e2aaca41294",
   "execution_count": 10,
   "outputs": []
  },
  {
   "metadata": {
    "ExecuteTime": {
     "end_time": "2025-06-13T06:51:00.251514Z",
     "start_time": "2025-06-13T06:51:00.246101Z"
    }
   },
   "cell_type": "code",
   "source": "naruto_transcript_df.head()",
   "id": "7cf4a2759a9fa0e7",
   "execution_count": 12,
   "outputs": []
  },
  {
   "metadata": {
    "ExecuteTime": {
     "end_time": "2025-06-13T06:53:54.115232Z",
     "start_time": "2025-06-13T06:53:54.111397Z"
    }
   },
   "cell_type": "code",
   "source": [
    "naruto_transcript_df['naruto_response_flag'] = 0\n",
    "naruto_transcript_df.loc[(naruto_transcript_df['name']==\"Naruto\")&(naruto_transcript_df['number_of_words']>5),('naruto_response_flag')] = 1"
   ],
   "id": "855d176d305ef832",
   "execution_count": 13,
   "outputs": []
  },
  {
   "metadata": {
    "ExecuteTime": {
     "end_time": "2025-06-13T06:54:05.495825Z",
     "start_time": "2025-06-13T06:54:05.488888Z"
    }
   },
   "cell_type": "code",
   "source": "naruto_transcript_df",
   "id": "6f959bb50e5786c9",
   "execution_count": 14,
   "outputs": []
  },
  {
   "metadata": {
    "ExecuteTime": {
     "end_time": "2025-06-13T06:58:42.520436Z",
     "start_time": "2025-06-13T06:58:42.515663Z"
    }
   },
   "cell_type": "code",
   "source": "indexes_to_take = list(naruto_transcript_df[(naruto_transcript_df['naruto_response_flag']==1)&(naruto_transcript_df.index>0)].index)",
   "id": "d31abfab5d57c636",
   "execution_count": 15,
   "outputs": []
  },
  {
   "metadata": {
    "ExecuteTime": {
     "end_time": "2025-06-13T06:58:53.855080Z",
     "start_time": "2025-06-13T06:58:53.851560Z"
    }
   },
   "cell_type": "code",
   "source": "indexes_to_take[:3]",
   "id": "49eca235859f9795",
   "execution_count": 16,
   "outputs": []
  },
  {
   "metadata": {
    "ExecuteTime": {
     "end_time": "2025-06-13T07:13:01.320581Z",
     "start_time": "2025-06-13T07:13:01.315496Z"
    }
   },
   "cell_type": "code",
   "source": [
    "system_prompt = \"\"\"You are Naruto from the anime \"Naruto\". You responses should reflect his personality and patterns  \\n\"\"\"\n",
    "\n",
    "prompts = []\n",
    "for ind in indexes_to_take:\n",
    "    prompt = system_prompt\n",
    "    \n",
    "    prompt += naruto_transcript_df.iloc[ind -1]['line']\n",
    "    prompt += '\\n'\n",
    "    prompt += naruto_transcript_df.iloc[ind]['line']\n",
    "    prompts.append(prompt)"
   ],
   "id": "ae1e573638245de4",
   "execution_count": 18,
   "outputs": []
  },
  {
   "metadata": {
    "ExecuteTime": {
     "end_time": "2025-06-13T07:13:53.993709Z",
     "start_time": "2025-06-13T07:13:53.990340Z"
    }
   },
   "cell_type": "code",
   "source": "print(prompts[2])",
   "id": "f123e3a961c299b7",
   "execution_count": 21,
   "outputs": []
  },
  {
   "metadata": {
    "ExecuteTime": {
     "end_time": "2025-06-13T07:16:22.681155Z",
     "start_time": "2025-06-13T07:16:22.675368Z"
    }
   },
   "cell_type": "code",
   "source": [
    "df = pd.DataFrame({\"prompt\":prompts})\n",
    "df.head()"
   ],
   "id": "b13ecc5cfb150c5b",
   "execution_count": 22,
   "outputs": []
  },
  {
   "metadata": {
    "ExecuteTime": {
     "end_time": "2025-06-13T07:17:29.826104Z",
     "start_time": "2025-06-13T07:17:29.816197Z"
    }
   },
   "cell_type": "code",
   "source": "dataset = Dataset.from_pandas(df)",
   "id": "ebac9775b30a291f",
   "execution_count": 25,
   "outputs": []
  },
  {
   "metadata": {},
   "cell_type": "code",
   "execution_count": null,
   "source": "",
   "id": "5527a082e21ef885",
   "outputs": []
  }
 ],
 "metadata": {
  "kernelspec": {
   "display_name": "Python 3",
   "language": "python",
   "name": "python3"
  },
  "language_info": {
   "codemirror_mode": {
    "name": "ipython",
    "version": 2
   },
   "file_extension": ".py",
   "mimetype": "text/x-python",
   "name": "python",
   "nbconvert_exporter": "python",
   "pygments_lexer": "ipython2",
   "version": "2.7.6"
  }
 },
 "nbformat": 4,
 "nbformat_minor": 5
}
